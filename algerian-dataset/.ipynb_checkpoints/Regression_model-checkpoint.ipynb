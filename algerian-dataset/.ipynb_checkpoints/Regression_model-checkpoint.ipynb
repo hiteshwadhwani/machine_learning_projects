{
 "cells": [
  {
   "cell_type": "markdown",
   "id": "a13b7f01",
   "metadata": {},
   "source": [
    "## Regression model Algerian Dataset"
   ]
  },
  {
   "cell_type": "code",
   "execution_count": 1,
   "id": "523826a6",
   "metadata": {},
   "outputs": [],
   "source": [
    "import pandas as pd\n",
    "import numpy as np\n",
    "import matplotlib.pyplot as plt\n",
    "import seaborn as sns\n",
    "import warnings\n",
    "sns.set()\n",
    "warnings.filterwarnings(\"ignore\")\n",
    "\n",
    "%matplotlib inline"
   ]
  },
  {
   "cell_type": "code",
   "execution_count": 2,
   "id": "29790712",
   "metadata": {},
   "outputs": [],
   "source": [
    "df = pd.read_csv(\"Algerian_forest_fires_dataset_UPDATE.csv\", header=1)"
   ]
  },
  {
   "cell_type": "markdown",
   "id": "60f74475",
   "metadata": {},
   "source": [
    "## Cleaning Data and preparing the data"
   ]
  },
  {
   "cell_type": "code",
   "execution_count": 3,
   "id": "1697b111",
   "metadata": {},
   "outputs": [],
   "source": [
    "df.drop(index=[122,123], inplace=True) # removing rows\n",
    "df.reset_index(inplace=True)\n",
    "df.drop('index', axis=1, inplace=True)"
   ]
  },
  {
   "cell_type": "code",
   "execution_count": 4,
   "id": "2942ed85",
   "metadata": {},
   "outputs": [],
   "source": [
    "df.loc[:122, 'region'] = 'bejaia'\n",
    "df.loc[122:, 'region'] = 'Sidi-Bel Abbes'"
   ]
  },
  {
   "cell_type": "code",
   "execution_count": 5,
   "id": "e8d39ee7",
   "metadata": {},
   "outputs": [
    {
     "data": {
      "text/html": [
       "<div>\n",
       "<style scoped>\n",
       "    .dataframe tbody tr th:only-of-type {\n",
       "        vertical-align: middle;\n",
       "    }\n",
       "\n",
       "    .dataframe tbody tr th {\n",
       "        vertical-align: top;\n",
       "    }\n",
       "\n",
       "    .dataframe thead th {\n",
       "        text-align: right;\n",
       "    }\n",
       "</style>\n",
       "<table border=\"1\" class=\"dataframe\">\n",
       "  <thead>\n",
       "    <tr style=\"text-align: right;\">\n",
       "      <th></th>\n",
       "      <th>Temperature</th>\n",
       "      <th>RH</th>\n",
       "      <th>Ws</th>\n",
       "      <th>Rain</th>\n",
       "      <th>FFMC</th>\n",
       "      <th>DMC</th>\n",
       "      <th>DC</th>\n",
       "      <th>ISI</th>\n",
       "      <th>BUI</th>\n",
       "      <th>FWI</th>\n",
       "      <th>Classes</th>\n",
       "      <th>region</th>\n",
       "      <th>date</th>\n",
       "    </tr>\n",
       "  </thead>\n",
       "  <tbody>\n",
       "    <tr>\n",
       "      <th>0</th>\n",
       "      <td>29</td>\n",
       "      <td>57</td>\n",
       "      <td>18</td>\n",
       "      <td>0</td>\n",
       "      <td>65.7</td>\n",
       "      <td>3.4</td>\n",
       "      <td>7.6</td>\n",
       "      <td>1.3</td>\n",
       "      <td>3.4</td>\n",
       "      <td>0.5</td>\n",
       "      <td>not fire</td>\n",
       "      <td>bejaia</td>\n",
       "      <td>2012-06-01</td>\n",
       "    </tr>\n",
       "    <tr>\n",
       "      <th>1</th>\n",
       "      <td>29</td>\n",
       "      <td>61</td>\n",
       "      <td>13</td>\n",
       "      <td>1.3</td>\n",
       "      <td>64.4</td>\n",
       "      <td>4.1</td>\n",
       "      <td>7.6</td>\n",
       "      <td>1</td>\n",
       "      <td>3.9</td>\n",
       "      <td>0.4</td>\n",
       "      <td>not fire</td>\n",
       "      <td>bejaia</td>\n",
       "      <td>2012-06-02</td>\n",
       "    </tr>\n",
       "    <tr>\n",
       "      <th>2</th>\n",
       "      <td>26</td>\n",
       "      <td>82</td>\n",
       "      <td>22</td>\n",
       "      <td>13.1</td>\n",
       "      <td>47.1</td>\n",
       "      <td>2.5</td>\n",
       "      <td>7.1</td>\n",
       "      <td>0.3</td>\n",
       "      <td>2.7</td>\n",
       "      <td>0.1</td>\n",
       "      <td>not fire</td>\n",
       "      <td>bejaia</td>\n",
       "      <td>2012-06-03</td>\n",
       "    </tr>\n",
       "    <tr>\n",
       "      <th>3</th>\n",
       "      <td>25</td>\n",
       "      <td>89</td>\n",
       "      <td>13</td>\n",
       "      <td>2.5</td>\n",
       "      <td>28.6</td>\n",
       "      <td>1.3</td>\n",
       "      <td>6.9</td>\n",
       "      <td>0</td>\n",
       "      <td>1.7</td>\n",
       "      <td>0</td>\n",
       "      <td>not fire</td>\n",
       "      <td>bejaia</td>\n",
       "      <td>2012-06-04</td>\n",
       "    </tr>\n",
       "    <tr>\n",
       "      <th>4</th>\n",
       "      <td>27</td>\n",
       "      <td>77</td>\n",
       "      <td>16</td>\n",
       "      <td>0</td>\n",
       "      <td>64.8</td>\n",
       "      <td>3</td>\n",
       "      <td>14.2</td>\n",
       "      <td>1.2</td>\n",
       "      <td>3.9</td>\n",
       "      <td>0.5</td>\n",
       "      <td>not fire</td>\n",
       "      <td>bejaia</td>\n",
       "      <td>2012-06-05</td>\n",
       "    </tr>\n",
       "  </tbody>\n",
       "</table>\n",
       "</div>"
      ],
      "text/plain": [
       "  Temperature  RH  Ws Rain   FFMC  DMC    DC  ISI  BUI  FWI    Classes    \\\n",
       "0          29  57  18     0  65.7  3.4   7.6  1.3  3.4  0.5  not fire      \n",
       "1          29  61  13   1.3  64.4  4.1   7.6    1  3.9  0.4  not fire      \n",
       "2          26  82  22  13.1  47.1  2.5   7.1  0.3  2.7  0.1  not fire      \n",
       "3          25  89  13   2.5  28.6  1.3   6.9    0  1.7    0  not fire      \n",
       "4          27  77  16     0  64.8    3  14.2  1.2  3.9  0.5  not fire      \n",
       "\n",
       "   region       date  \n",
       "0  bejaia 2012-06-01  \n",
       "1  bejaia 2012-06-02  \n",
       "2  bejaia 2012-06-03  \n",
       "3  bejaia 2012-06-04  \n",
       "4  bejaia 2012-06-05  "
      ]
     },
     "execution_count": 5,
     "metadata": {},
     "output_type": "execute_result"
    }
   ],
   "source": [
    "# make date time column\n",
    "\n",
    "df['date'] = pd.to_datetime(df[['day','month','year']])\n",
    "df.drop(['day', 'month', 'year'], axis=1, inplace=True)\n",
    "df.head()"
   ]
  },
  {
   "cell_type": "code",
   "execution_count": 6,
   "id": "891c3c53",
   "metadata": {},
   "outputs": [],
   "source": [
    "df.columns = [i.strip() for i in df.columns] # stripping column names"
   ]
  },
  {
   "cell_type": "code",
   "execution_count": 7,
   "id": "496266c8",
   "metadata": {},
   "outputs": [],
   "source": [
    "df.Classes = df.Classes.str.strip() # stripping Classes feature"
   ]
  },
  {
   "cell_type": "code",
   "execution_count": 8,
   "id": "8d691e91",
   "metadata": {},
   "outputs": [
    {
     "data": {
      "text/html": [
       "<div>\n",
       "<style scoped>\n",
       "    .dataframe tbody tr th:only-of-type {\n",
       "        vertical-align: middle;\n",
       "    }\n",
       "\n",
       "    .dataframe tbody tr th {\n",
       "        vertical-align: top;\n",
       "    }\n",
       "\n",
       "    .dataframe thead th {\n",
       "        text-align: right;\n",
       "    }\n",
       "</style>\n",
       "<table border=\"1\" class=\"dataframe\">\n",
       "  <thead>\n",
       "    <tr style=\"text-align: right;\">\n",
       "      <th></th>\n",
       "      <th>Temperature</th>\n",
       "      <th>RH</th>\n",
       "      <th>Ws</th>\n",
       "      <th>Rain</th>\n",
       "      <th>FFMC</th>\n",
       "      <th>DMC</th>\n",
       "      <th>DC</th>\n",
       "      <th>ISI</th>\n",
       "      <th>BUI</th>\n",
       "      <th>FWI</th>\n",
       "      <th>Classes</th>\n",
       "      <th>region</th>\n",
       "      <th>date</th>\n",
       "    </tr>\n",
       "  </thead>\n",
       "  <tbody>\n",
       "    <tr>\n",
       "      <th>0</th>\n",
       "      <td>29</td>\n",
       "      <td>57</td>\n",
       "      <td>18</td>\n",
       "      <td>0</td>\n",
       "      <td>65.7</td>\n",
       "      <td>3.4</td>\n",
       "      <td>7.6</td>\n",
       "      <td>1.3</td>\n",
       "      <td>3.4</td>\n",
       "      <td>0.5</td>\n",
       "      <td>not fire</td>\n",
       "      <td>bejaia</td>\n",
       "      <td>2012-06-01</td>\n",
       "    </tr>\n",
       "    <tr>\n",
       "      <th>1</th>\n",
       "      <td>29</td>\n",
       "      <td>61</td>\n",
       "      <td>13</td>\n",
       "      <td>1.3</td>\n",
       "      <td>64.4</td>\n",
       "      <td>4.1</td>\n",
       "      <td>7.6</td>\n",
       "      <td>1</td>\n",
       "      <td>3.9</td>\n",
       "      <td>0.4</td>\n",
       "      <td>not fire</td>\n",
       "      <td>bejaia</td>\n",
       "      <td>2012-06-02</td>\n",
       "    </tr>\n",
       "    <tr>\n",
       "      <th>2</th>\n",
       "      <td>26</td>\n",
       "      <td>82</td>\n",
       "      <td>22</td>\n",
       "      <td>13.1</td>\n",
       "      <td>47.1</td>\n",
       "      <td>2.5</td>\n",
       "      <td>7.1</td>\n",
       "      <td>0.3</td>\n",
       "      <td>2.7</td>\n",
       "      <td>0.1</td>\n",
       "      <td>not fire</td>\n",
       "      <td>bejaia</td>\n",
       "      <td>2012-06-03</td>\n",
       "    </tr>\n",
       "    <tr>\n",
       "      <th>3</th>\n",
       "      <td>25</td>\n",
       "      <td>89</td>\n",
       "      <td>13</td>\n",
       "      <td>2.5</td>\n",
       "      <td>28.6</td>\n",
       "      <td>1.3</td>\n",
       "      <td>6.9</td>\n",
       "      <td>0</td>\n",
       "      <td>1.7</td>\n",
       "      <td>0</td>\n",
       "      <td>not fire</td>\n",
       "      <td>bejaia</td>\n",
       "      <td>2012-06-04</td>\n",
       "    </tr>\n",
       "    <tr>\n",
       "      <th>4</th>\n",
       "      <td>27</td>\n",
       "      <td>77</td>\n",
       "      <td>16</td>\n",
       "      <td>0</td>\n",
       "      <td>64.8</td>\n",
       "      <td>3</td>\n",
       "      <td>14.2</td>\n",
       "      <td>1.2</td>\n",
       "      <td>3.9</td>\n",
       "      <td>0.5</td>\n",
       "      <td>not fire</td>\n",
       "      <td>bejaia</td>\n",
       "      <td>2012-06-05</td>\n",
       "    </tr>\n",
       "    <tr>\n",
       "      <th>...</th>\n",
       "      <td>...</td>\n",
       "      <td>...</td>\n",
       "      <td>...</td>\n",
       "      <td>...</td>\n",
       "      <td>...</td>\n",
       "      <td>...</td>\n",
       "      <td>...</td>\n",
       "      <td>...</td>\n",
       "      <td>...</td>\n",
       "      <td>...</td>\n",
       "      <td>...</td>\n",
       "      <td>...</td>\n",
       "      <td>...</td>\n",
       "    </tr>\n",
       "    <tr>\n",
       "      <th>239</th>\n",
       "      <td>30</td>\n",
       "      <td>65</td>\n",
       "      <td>14</td>\n",
       "      <td>0</td>\n",
       "      <td>85.4</td>\n",
       "      <td>16</td>\n",
       "      <td>44.5</td>\n",
       "      <td>4.5</td>\n",
       "      <td>16.9</td>\n",
       "      <td>6.5</td>\n",
       "      <td>fire</td>\n",
       "      <td>Sidi-Bel Abbes</td>\n",
       "      <td>2012-09-26</td>\n",
       "    </tr>\n",
       "    <tr>\n",
       "      <th>240</th>\n",
       "      <td>28</td>\n",
       "      <td>87</td>\n",
       "      <td>15</td>\n",
       "      <td>4.4</td>\n",
       "      <td>41.1</td>\n",
       "      <td>6.5</td>\n",
       "      <td>8</td>\n",
       "      <td>0.1</td>\n",
       "      <td>6.2</td>\n",
       "      <td>0</td>\n",
       "      <td>not fire</td>\n",
       "      <td>Sidi-Bel Abbes</td>\n",
       "      <td>2012-09-27</td>\n",
       "    </tr>\n",
       "    <tr>\n",
       "      <th>241</th>\n",
       "      <td>27</td>\n",
       "      <td>87</td>\n",
       "      <td>29</td>\n",
       "      <td>0.5</td>\n",
       "      <td>45.9</td>\n",
       "      <td>3.5</td>\n",
       "      <td>7.9</td>\n",
       "      <td>0.4</td>\n",
       "      <td>3.4</td>\n",
       "      <td>0.2</td>\n",
       "      <td>not fire</td>\n",
       "      <td>Sidi-Bel Abbes</td>\n",
       "      <td>2012-09-28</td>\n",
       "    </tr>\n",
       "    <tr>\n",
       "      <th>242</th>\n",
       "      <td>24</td>\n",
       "      <td>54</td>\n",
       "      <td>18</td>\n",
       "      <td>0.1</td>\n",
       "      <td>79.7</td>\n",
       "      <td>4.3</td>\n",
       "      <td>15.2</td>\n",
       "      <td>1.7</td>\n",
       "      <td>5.1</td>\n",
       "      <td>0.7</td>\n",
       "      <td>not fire</td>\n",
       "      <td>Sidi-Bel Abbes</td>\n",
       "      <td>2012-09-29</td>\n",
       "    </tr>\n",
       "    <tr>\n",
       "      <th>243</th>\n",
       "      <td>24</td>\n",
       "      <td>64</td>\n",
       "      <td>15</td>\n",
       "      <td>0.2</td>\n",
       "      <td>67.3</td>\n",
       "      <td>3.8</td>\n",
       "      <td>16.5</td>\n",
       "      <td>1.2</td>\n",
       "      <td>4.8</td>\n",
       "      <td>0.5</td>\n",
       "      <td>not fire</td>\n",
       "      <td>Sidi-Bel Abbes</td>\n",
       "      <td>2012-09-30</td>\n",
       "    </tr>\n",
       "  </tbody>\n",
       "</table>\n",
       "<p>244 rows × 13 columns</p>\n",
       "</div>"
      ],
      "text/plain": [
       "    Temperature  RH  Ws  Rain  FFMC  DMC    DC  ISI   BUI  FWI   Classes  \\\n",
       "0            29  57  18     0  65.7  3.4   7.6  1.3   3.4  0.5  not fire   \n",
       "1            29  61  13   1.3  64.4  4.1   7.6    1   3.9  0.4  not fire   \n",
       "2            26  82  22  13.1  47.1  2.5   7.1  0.3   2.7  0.1  not fire   \n",
       "3            25  89  13   2.5  28.6  1.3   6.9    0   1.7    0  not fire   \n",
       "4            27  77  16     0  64.8    3  14.2  1.2   3.9  0.5  not fire   \n",
       "..          ...  ..  ..   ...   ...  ...   ...  ...   ...  ...       ...   \n",
       "239          30  65  14     0  85.4   16  44.5  4.5  16.9  6.5      fire   \n",
       "240          28  87  15   4.4  41.1  6.5     8  0.1   6.2    0  not fire   \n",
       "241          27  87  29   0.5  45.9  3.5   7.9  0.4   3.4  0.2  not fire   \n",
       "242          24  54  18   0.1  79.7  4.3  15.2  1.7   5.1  0.7  not fire   \n",
       "243          24  64  15   0.2  67.3  3.8  16.5  1.2   4.8  0.5  not fire   \n",
       "\n",
       "             region       date  \n",
       "0            bejaia 2012-06-01  \n",
       "1            bejaia 2012-06-02  \n",
       "2            bejaia 2012-06-03  \n",
       "3            bejaia 2012-06-04  \n",
       "4            bejaia 2012-06-05  \n",
       "..              ...        ...  \n",
       "239  Sidi-Bel Abbes 2012-09-26  \n",
       "240  Sidi-Bel Abbes 2012-09-27  \n",
       "241  Sidi-Bel Abbes 2012-09-28  \n",
       "242  Sidi-Bel Abbes 2012-09-29  \n",
       "243  Sidi-Bel Abbes 2012-09-30  \n",
       "\n",
       "[244 rows x 13 columns]"
      ]
     },
     "execution_count": 8,
     "metadata": {},
     "output_type": "execute_result"
    }
   ],
   "source": [
    "df.replace('nan', np.nan) # replacing nan and null string with object\n",
    "df.replace('null', np.nan)"
   ]
  },
  {
   "cell_type": "code",
   "execution_count": 9,
   "id": "1a14a179",
   "metadata": {},
   "outputs": [
    {
     "data": {
      "text/plain": [
       "Temperature    0\n",
       "RH             0\n",
       "Ws             0\n",
       "Rain           0\n",
       "FFMC           0\n",
       "DMC            0\n",
       "DC             0\n",
       "ISI            0\n",
       "BUI            0\n",
       "FWI            0\n",
       "Classes        1\n",
       "region         0\n",
       "date           0\n",
       "dtype: int64"
      ]
     },
     "execution_count": 9,
     "metadata": {},
     "output_type": "execute_result"
    }
   ],
   "source": [
    "df.isnull().sum()"
   ]
  },
  {
   "cell_type": "code",
   "execution_count": 10,
   "id": "ffbe99ba",
   "metadata": {},
   "outputs": [],
   "source": [
    "# Handle that null value"
   ]
  },
  {
   "cell_type": "code",
   "execution_count": 14,
   "id": "0ec7a5fd",
   "metadata": {},
   "outputs": [
    {
     "data": {
      "text/html": [
       "<div>\n",
       "<style scoped>\n",
       "    .dataframe tbody tr th:only-of-type {\n",
       "        vertical-align: middle;\n",
       "    }\n",
       "\n",
       "    .dataframe tbody tr th {\n",
       "        vertical-align: top;\n",
       "    }\n",
       "\n",
       "    .dataframe thead th {\n",
       "        text-align: right;\n",
       "    }\n",
       "</style>\n",
       "<table border=\"1\" class=\"dataframe\">\n",
       "  <thead>\n",
       "    <tr style=\"text-align: right;\">\n",
       "      <th></th>\n",
       "      <th>Temperature</th>\n",
       "      <th>RH</th>\n",
       "      <th>Ws</th>\n",
       "      <th>Rain</th>\n",
       "      <th>FFMC</th>\n",
       "      <th>DMC</th>\n",
       "      <th>DC</th>\n",
       "      <th>ISI</th>\n",
       "      <th>BUI</th>\n",
       "      <th>FWI</th>\n",
       "      <th>Classes</th>\n",
       "      <th>region</th>\n",
       "      <th>date</th>\n",
       "    </tr>\n",
       "  </thead>\n",
       "  <tbody>\n",
       "    <tr>\n",
       "      <th>165</th>\n",
       "      <td>37</td>\n",
       "      <td>37</td>\n",
       "      <td>18</td>\n",
       "      <td>0.2</td>\n",
       "      <td>88.9</td>\n",
       "      <td>12.9</td>\n",
       "      <td>14.6 9</td>\n",
       "      <td>12.5</td>\n",
       "      <td>10.4</td>\n",
       "      <td>fire</td>\n",
       "      <td>NaN</td>\n",
       "      <td>Sidi-Bel Abbes</td>\n",
       "      <td>2012-07-14</td>\n",
       "    </tr>\n",
       "  </tbody>\n",
       "</table>\n",
       "</div>"
      ],
      "text/plain": [
       "    Temperature  RH  Ws Rain  FFMC   DMC      DC   ISI   BUI      FWI Classes  \\\n",
       "165          37  37  18  0.2  88.9  12.9  14.6 9  12.5  10.4  fire        NaN   \n",
       "\n",
       "             region       date  \n",
       "165  Sidi-Bel Abbes 2012-07-14  "
      ]
     },
     "execution_count": 14,
     "metadata": {},
     "output_type": "execute_result"
    }
   ],
   "source": [
    "df[df.isnull().any(axis=1)]"
   ]
  },
  {
   "cell_type": "code",
   "execution_count": 16,
   "id": "3994d47a",
   "metadata": {},
   "outputs": [],
   "source": [
    "df.loc[165,'DC'] = 14.6\n",
    "df.loc[165,'ISI'] = 9\n",
    "df.loc[165,'BUI'] = 12.5\n",
    "df.loc[165,'FWI'] = 10.4\n",
    "df.loc[165,'Classes'] = 'fire'"
   ]
  },
  {
   "cell_type": "code",
   "execution_count": 17,
   "id": "4c390d21",
   "metadata": {},
   "outputs": [
    {
     "data": {
      "text/plain": [
       "Temperature    0\n",
       "RH             0\n",
       "Ws             0\n",
       "Rain           0\n",
       "FFMC           0\n",
       "DMC            0\n",
       "DC             0\n",
       "ISI            0\n",
       "BUI            0\n",
       "FWI            0\n",
       "Classes        0\n",
       "region         0\n",
       "date           0\n",
       "dtype: int64"
      ]
     },
     "execution_count": 17,
     "metadata": {},
     "output_type": "execute_result"
    }
   ],
   "source": [
    "df.isnull().sum()"
   ]
  },
  {
   "cell_type": "code",
   "execution_count": 18,
   "id": "4aa84cd8",
   "metadata": {},
   "outputs": [],
   "source": [
    "# changing dtypes to numerical\n",
    "\n",
    "df = df.astype({'RH':np.int64, 'Temperature':np.int64, 'Ws':np.int64, 'Rain':np.float64, 'FFMC':np.float64\n",
    "               ,'DMC':np.float64, 'DC':np.float64, 'ISI':np.float64, 'BUI':np.float64,\n",
    "               'FWI':np.float64})"
   ]
  },
  {
   "cell_type": "code",
   "execution_count": 19,
   "id": "b5001076",
   "metadata": {},
   "outputs": [
    {
     "data": {
      "text/html": [
       "<div>\n",
       "<style scoped>\n",
       "    .dataframe tbody tr th:only-of-type {\n",
       "        vertical-align: middle;\n",
       "    }\n",
       "\n",
       "    .dataframe tbody tr th {\n",
       "        vertical-align: top;\n",
       "    }\n",
       "\n",
       "    .dataframe thead th {\n",
       "        text-align: right;\n",
       "    }\n",
       "</style>\n",
       "<table border=\"1\" class=\"dataframe\">\n",
       "  <thead>\n",
       "    <tr style=\"text-align: right;\">\n",
       "      <th></th>\n",
       "      <th>Temperature</th>\n",
       "      <th>RH</th>\n",
       "      <th>Ws</th>\n",
       "      <th>Rain</th>\n",
       "      <th>FFMC</th>\n",
       "      <th>DMC</th>\n",
       "      <th>DC</th>\n",
       "      <th>ISI</th>\n",
       "      <th>BUI</th>\n",
       "      <th>FWI</th>\n",
       "      <th>Classes</th>\n",
       "      <th>region</th>\n",
       "      <th>date</th>\n",
       "    </tr>\n",
       "  </thead>\n",
       "  <tbody>\n",
       "    <tr>\n",
       "      <th>0</th>\n",
       "      <td>29</td>\n",
       "      <td>57</td>\n",
       "      <td>18</td>\n",
       "      <td>0.0</td>\n",
       "      <td>65.7</td>\n",
       "      <td>3.4</td>\n",
       "      <td>7.6</td>\n",
       "      <td>1.3</td>\n",
       "      <td>3.4</td>\n",
       "      <td>0.5</td>\n",
       "      <td>not fire</td>\n",
       "      <td>bejaia</td>\n",
       "      <td>2012-06-01</td>\n",
       "    </tr>\n",
       "    <tr>\n",
       "      <th>1</th>\n",
       "      <td>29</td>\n",
       "      <td>61</td>\n",
       "      <td>13</td>\n",
       "      <td>1.3</td>\n",
       "      <td>64.4</td>\n",
       "      <td>4.1</td>\n",
       "      <td>7.6</td>\n",
       "      <td>1.0</td>\n",
       "      <td>3.9</td>\n",
       "      <td>0.4</td>\n",
       "      <td>not fire</td>\n",
       "      <td>bejaia</td>\n",
       "      <td>2012-06-02</td>\n",
       "    </tr>\n",
       "    <tr>\n",
       "      <th>2</th>\n",
       "      <td>26</td>\n",
       "      <td>82</td>\n",
       "      <td>22</td>\n",
       "      <td>13.1</td>\n",
       "      <td>47.1</td>\n",
       "      <td>2.5</td>\n",
       "      <td>7.1</td>\n",
       "      <td>0.3</td>\n",
       "      <td>2.7</td>\n",
       "      <td>0.1</td>\n",
       "      <td>not fire</td>\n",
       "      <td>bejaia</td>\n",
       "      <td>2012-06-03</td>\n",
       "    </tr>\n",
       "    <tr>\n",
       "      <th>3</th>\n",
       "      <td>25</td>\n",
       "      <td>89</td>\n",
       "      <td>13</td>\n",
       "      <td>2.5</td>\n",
       "      <td>28.6</td>\n",
       "      <td>1.3</td>\n",
       "      <td>6.9</td>\n",
       "      <td>0.0</td>\n",
       "      <td>1.7</td>\n",
       "      <td>0.0</td>\n",
       "      <td>not fire</td>\n",
       "      <td>bejaia</td>\n",
       "      <td>2012-06-04</td>\n",
       "    </tr>\n",
       "    <tr>\n",
       "      <th>4</th>\n",
       "      <td>27</td>\n",
       "      <td>77</td>\n",
       "      <td>16</td>\n",
       "      <td>0.0</td>\n",
       "      <td>64.8</td>\n",
       "      <td>3.0</td>\n",
       "      <td>14.2</td>\n",
       "      <td>1.2</td>\n",
       "      <td>3.9</td>\n",
       "      <td>0.5</td>\n",
       "      <td>not fire</td>\n",
       "      <td>bejaia</td>\n",
       "      <td>2012-06-05</td>\n",
       "    </tr>\n",
       "  </tbody>\n",
       "</table>\n",
       "</div>"
      ],
      "text/plain": [
       "   Temperature  RH  Ws  Rain  FFMC  DMC    DC  ISI  BUI  FWI   Classes  \\\n",
       "0           29  57  18   0.0  65.7  3.4   7.6  1.3  3.4  0.5  not fire   \n",
       "1           29  61  13   1.3  64.4  4.1   7.6  1.0  3.9  0.4  not fire   \n",
       "2           26  82  22  13.1  47.1  2.5   7.1  0.3  2.7  0.1  not fire   \n",
       "3           25  89  13   2.5  28.6  1.3   6.9  0.0  1.7  0.0  not fire   \n",
       "4           27  77  16   0.0  64.8  3.0  14.2  1.2  3.9  0.5  not fire   \n",
       "\n",
       "   region       date  \n",
       "0  bejaia 2012-06-01  \n",
       "1  bejaia 2012-06-02  \n",
       "2  bejaia 2012-06-03  \n",
       "3  bejaia 2012-06-04  \n",
       "4  bejaia 2012-06-05  "
      ]
     },
     "execution_count": 19,
     "metadata": {},
     "output_type": "execute_result"
    }
   ],
   "source": [
    "df.head()"
   ]
  },
  {
   "cell_type": "markdown",
   "id": "ede569d2",
   "metadata": {},
   "source": [
    "## Encoding categorical features"
   ]
  },
  {
   "cell_type": "code",
   "execution_count": 20,
   "id": "f6babaac",
   "metadata": {},
   "outputs": [
    {
     "name": "stdout",
     "output_type": "stream",
     "text": [
      "<class 'pandas.core.frame.DataFrame'>\n",
      "RangeIndex: 244 entries, 0 to 243\n",
      "Data columns (total 13 columns):\n",
      " #   Column       Non-Null Count  Dtype         \n",
      "---  ------       --------------  -----         \n",
      " 0   Temperature  244 non-null    int64         \n",
      " 1   RH           244 non-null    int64         \n",
      " 2   Ws           244 non-null    int64         \n",
      " 3   Rain         244 non-null    float64       \n",
      " 4   FFMC         244 non-null    float64       \n",
      " 5   DMC          244 non-null    float64       \n",
      " 6   DC           244 non-null    float64       \n",
      " 7   ISI          244 non-null    float64       \n",
      " 8   BUI          244 non-null    float64       \n",
      " 9   FWI          244 non-null    float64       \n",
      " 10  Classes      244 non-null    object        \n",
      " 11  region       244 non-null    object        \n",
      " 12  date         244 non-null    datetime64[ns]\n",
      "dtypes: datetime64[ns](1), float64(7), int64(3), object(2)\n",
      "memory usage: 24.9+ KB\n"
     ]
    }
   ],
   "source": [
    "df.info()"
   ]
  },
  {
   "cell_type": "code",
   "execution_count": 21,
   "id": "9e92b8a2",
   "metadata": {},
   "outputs": [
    {
     "data": {
      "text/html": [
       "<div>\n",
       "<style scoped>\n",
       "    .dataframe tbody tr th:only-of-type {\n",
       "        vertical-align: middle;\n",
       "    }\n",
       "\n",
       "    .dataframe tbody tr th {\n",
       "        vertical-align: top;\n",
       "    }\n",
       "\n",
       "    .dataframe thead th {\n",
       "        text-align: right;\n",
       "    }\n",
       "</style>\n",
       "<table border=\"1\" class=\"dataframe\">\n",
       "  <thead>\n",
       "    <tr style=\"text-align: right;\">\n",
       "      <th></th>\n",
       "      <th>Temperature</th>\n",
       "      <th>RH</th>\n",
       "      <th>Ws</th>\n",
       "      <th>Rain</th>\n",
       "      <th>FFMC</th>\n",
       "      <th>DMC</th>\n",
       "      <th>DC</th>\n",
       "      <th>ISI</th>\n",
       "      <th>BUI</th>\n",
       "      <th>FWI</th>\n",
       "      <th>Classes</th>\n",
       "      <th>region</th>\n",
       "      <th>date</th>\n",
       "    </tr>\n",
       "  </thead>\n",
       "  <tbody>\n",
       "    <tr>\n",
       "      <th>0</th>\n",
       "      <td>29</td>\n",
       "      <td>57</td>\n",
       "      <td>18</td>\n",
       "      <td>0.0</td>\n",
       "      <td>65.7</td>\n",
       "      <td>3.4</td>\n",
       "      <td>7.6</td>\n",
       "      <td>1.3</td>\n",
       "      <td>3.4</td>\n",
       "      <td>0.5</td>\n",
       "      <td>1</td>\n",
       "      <td>1</td>\n",
       "      <td>2012-06-01</td>\n",
       "    </tr>\n",
       "    <tr>\n",
       "      <th>1</th>\n",
       "      <td>29</td>\n",
       "      <td>61</td>\n",
       "      <td>13</td>\n",
       "      <td>1.3</td>\n",
       "      <td>64.4</td>\n",
       "      <td>4.1</td>\n",
       "      <td>7.6</td>\n",
       "      <td>1.0</td>\n",
       "      <td>3.9</td>\n",
       "      <td>0.4</td>\n",
       "      <td>1</td>\n",
       "      <td>1</td>\n",
       "      <td>2012-06-02</td>\n",
       "    </tr>\n",
       "    <tr>\n",
       "      <th>2</th>\n",
       "      <td>26</td>\n",
       "      <td>82</td>\n",
       "      <td>22</td>\n",
       "      <td>13.1</td>\n",
       "      <td>47.1</td>\n",
       "      <td>2.5</td>\n",
       "      <td>7.1</td>\n",
       "      <td>0.3</td>\n",
       "      <td>2.7</td>\n",
       "      <td>0.1</td>\n",
       "      <td>1</td>\n",
       "      <td>1</td>\n",
       "      <td>2012-06-03</td>\n",
       "    </tr>\n",
       "    <tr>\n",
       "      <th>3</th>\n",
       "      <td>25</td>\n",
       "      <td>89</td>\n",
       "      <td>13</td>\n",
       "      <td>2.5</td>\n",
       "      <td>28.6</td>\n",
       "      <td>1.3</td>\n",
       "      <td>6.9</td>\n",
       "      <td>0.0</td>\n",
       "      <td>1.7</td>\n",
       "      <td>0.0</td>\n",
       "      <td>1</td>\n",
       "      <td>1</td>\n",
       "      <td>2012-06-04</td>\n",
       "    </tr>\n",
       "    <tr>\n",
       "      <th>4</th>\n",
       "      <td>27</td>\n",
       "      <td>77</td>\n",
       "      <td>16</td>\n",
       "      <td>0.0</td>\n",
       "      <td>64.8</td>\n",
       "      <td>3.0</td>\n",
       "      <td>14.2</td>\n",
       "      <td>1.2</td>\n",
       "      <td>3.9</td>\n",
       "      <td>0.5</td>\n",
       "      <td>1</td>\n",
       "      <td>1</td>\n",
       "      <td>2012-06-05</td>\n",
       "    </tr>\n",
       "  </tbody>\n",
       "</table>\n",
       "</div>"
      ],
      "text/plain": [
       "   Temperature  RH  Ws  Rain  FFMC  DMC    DC  ISI  BUI  FWI  Classes  region  \\\n",
       "0           29  57  18   0.0  65.7  3.4   7.6  1.3  3.4  0.5        1       1   \n",
       "1           29  61  13   1.3  64.4  4.1   7.6  1.0  3.9  0.4        1       1   \n",
       "2           26  82  22  13.1  47.1  2.5   7.1  0.3  2.7  0.1        1       1   \n",
       "3           25  89  13   2.5  28.6  1.3   6.9  0.0  1.7  0.0        1       1   \n",
       "4           27  77  16   0.0  64.8  3.0  14.2  1.2  3.9  0.5        1       1   \n",
       "\n",
       "        date  \n",
       "0 2012-06-01  \n",
       "1 2012-06-02  \n",
       "2 2012-06-03  \n",
       "3 2012-06-04  \n",
       "4 2012-06-05  "
      ]
     },
     "execution_count": 21,
     "metadata": {},
     "output_type": "execute_result"
    }
   ],
   "source": [
    "from sklearn.preprocessing import LabelEncoder\n",
    "encoder = LabelEncoder()\n",
    "df['Classes'] = encoder.fit_transform(df.Classes)\n",
    "df['region'] = encoder.fit_transform(df.region)\n",
    "df.head()"
   ]
  },
  {
   "cell_type": "markdown",
   "id": "92a370b0",
   "metadata": {},
   "source": [
    "## Train test split"
   ]
  },
  {
   "cell_type": "code",
   "execution_count": 29,
   "id": "a6fa03e8",
   "metadata": {},
   "outputs": [],
   "source": [
    "df.drop('date', axis=1, inplace=True)"
   ]
  },
  {
   "cell_type": "code",
   "execution_count": 30,
   "id": "c1d7aa48",
   "metadata": {},
   "outputs": [],
   "source": [
    "x = df.drop('Temperature', axis=1) # Independet Feature\n",
    "y = df['Temperature'] # Dependent Feature"
   ]
  },
  {
   "cell_type": "code",
   "execution_count": 32,
   "id": "4fc65ec8",
   "metadata": {},
   "outputs": [
    {
     "data": {
      "text/html": [
       "<div>\n",
       "<style scoped>\n",
       "    .dataframe tbody tr th:only-of-type {\n",
       "        vertical-align: middle;\n",
       "    }\n",
       "\n",
       "    .dataframe tbody tr th {\n",
       "        vertical-align: top;\n",
       "    }\n",
       "\n",
       "    .dataframe thead th {\n",
       "        text-align: right;\n",
       "    }\n",
       "</style>\n",
       "<table border=\"1\" class=\"dataframe\">\n",
       "  <thead>\n",
       "    <tr style=\"text-align: right;\">\n",
       "      <th></th>\n",
       "      <th>RH</th>\n",
       "      <th>Ws</th>\n",
       "      <th>Rain</th>\n",
       "      <th>FFMC</th>\n",
       "      <th>DMC</th>\n",
       "      <th>DC</th>\n",
       "      <th>ISI</th>\n",
       "      <th>BUI</th>\n",
       "      <th>FWI</th>\n",
       "      <th>Classes</th>\n",
       "      <th>region</th>\n",
       "    </tr>\n",
       "  </thead>\n",
       "  <tbody>\n",
       "    <tr>\n",
       "      <th>0</th>\n",
       "      <td>57</td>\n",
       "      <td>18</td>\n",
       "      <td>0.0</td>\n",
       "      <td>65.7</td>\n",
       "      <td>3.4</td>\n",
       "      <td>7.6</td>\n",
       "      <td>1.3</td>\n",
       "      <td>3.4</td>\n",
       "      <td>0.5</td>\n",
       "      <td>1</td>\n",
       "      <td>1</td>\n",
       "    </tr>\n",
       "    <tr>\n",
       "      <th>1</th>\n",
       "      <td>61</td>\n",
       "      <td>13</td>\n",
       "      <td>1.3</td>\n",
       "      <td>64.4</td>\n",
       "      <td>4.1</td>\n",
       "      <td>7.6</td>\n",
       "      <td>1.0</td>\n",
       "      <td>3.9</td>\n",
       "      <td>0.4</td>\n",
       "      <td>1</td>\n",
       "      <td>1</td>\n",
       "    </tr>\n",
       "    <tr>\n",
       "      <th>2</th>\n",
       "      <td>82</td>\n",
       "      <td>22</td>\n",
       "      <td>13.1</td>\n",
       "      <td>47.1</td>\n",
       "      <td>2.5</td>\n",
       "      <td>7.1</td>\n",
       "      <td>0.3</td>\n",
       "      <td>2.7</td>\n",
       "      <td>0.1</td>\n",
       "      <td>1</td>\n",
       "      <td>1</td>\n",
       "    </tr>\n",
       "    <tr>\n",
       "      <th>3</th>\n",
       "      <td>89</td>\n",
       "      <td>13</td>\n",
       "      <td>2.5</td>\n",
       "      <td>28.6</td>\n",
       "      <td>1.3</td>\n",
       "      <td>6.9</td>\n",
       "      <td>0.0</td>\n",
       "      <td>1.7</td>\n",
       "      <td>0.0</td>\n",
       "      <td>1</td>\n",
       "      <td>1</td>\n",
       "    </tr>\n",
       "    <tr>\n",
       "      <th>4</th>\n",
       "      <td>77</td>\n",
       "      <td>16</td>\n",
       "      <td>0.0</td>\n",
       "      <td>64.8</td>\n",
       "      <td>3.0</td>\n",
       "      <td>14.2</td>\n",
       "      <td>1.2</td>\n",
       "      <td>3.9</td>\n",
       "      <td>0.5</td>\n",
       "      <td>1</td>\n",
       "      <td>1</td>\n",
       "    </tr>\n",
       "  </tbody>\n",
       "</table>\n",
       "</div>"
      ],
      "text/plain": [
       "   RH  Ws  Rain  FFMC  DMC    DC  ISI  BUI  FWI  Classes  region\n",
       "0  57  18   0.0  65.7  3.4   7.6  1.3  3.4  0.5        1       1\n",
       "1  61  13   1.3  64.4  4.1   7.6  1.0  3.9  0.4        1       1\n",
       "2  82  22  13.1  47.1  2.5   7.1  0.3  2.7  0.1        1       1\n",
       "3  89  13   2.5  28.6  1.3   6.9  0.0  1.7  0.0        1       1\n",
       "4  77  16   0.0  64.8  3.0  14.2  1.2  3.9  0.5        1       1"
      ]
     },
     "execution_count": 32,
     "metadata": {},
     "output_type": "execute_result"
    }
   ],
   "source": [
    "x.head()"
   ]
  },
  {
   "cell_type": "code",
   "execution_count": 33,
   "id": "44ace2e7",
   "metadata": {},
   "outputs": [
    {
     "data": {
      "text/plain": [
       "0    29\n",
       "1    29\n",
       "2    26\n",
       "3    25\n",
       "4    27\n",
       "Name: Temperature, dtype: int64"
      ]
     },
     "execution_count": 33,
     "metadata": {},
     "output_type": "execute_result"
    }
   ],
   "source": [
    "y.head()"
   ]
  },
  {
   "cell_type": "code",
   "execution_count": 35,
   "id": "18b8ba7a",
   "metadata": {},
   "outputs": [],
   "source": [
    "from sklearn.model_selection import train_test_split\n",
    "# Split into training and test set\n",
    "x_train, x_test, y_train, y_test = train_test_split(x, y, test_size = 0.33, random_state=42)"
   ]
  },
  {
   "cell_type": "code",
   "execution_count": 39,
   "id": "e0d01773",
   "metadata": {},
   "outputs": [
    {
     "data": {
      "text/plain": [
       "((163, 11), (81, 11), (163,), (81,))"
      ]
     },
     "execution_count": 39,
     "metadata": {},
     "output_type": "execute_result"
    }
   ],
   "source": [
    "x_train.shape, x_test.shape, y_train.shape, y_test.shape"
   ]
  },
  {
   "cell_type": "markdown",
   "id": "1f6763c0",
   "metadata": {},
   "source": [
    "## standardization "
   ]
  },
  {
   "cell_type": "code",
   "execution_count": 41,
   "id": "94a45f5e",
   "metadata": {},
   "outputs": [],
   "source": [
    "from sklearn.preprocessing import StandardScaler"
   ]
  },
  {
   "cell_type": "code",
   "execution_count": 42,
   "id": "5afba2e0",
   "metadata": {},
   "outputs": [],
   "source": [
    "scaler = StandardScaler()"
   ]
  },
  {
   "cell_type": "code",
   "execution_count": 43,
   "id": "5e3164ba",
   "metadata": {},
   "outputs": [],
   "source": [
    "x_train = scaler.fit_transform(x_train)"
   ]
  },
  {
   "cell_type": "code",
   "execution_count": 44,
   "id": "ad72f6d2",
   "metadata": {},
   "outputs": [],
   "source": [
    "x_test = scaler.transform(x_test)"
   ]
  },
  {
   "cell_type": "markdown",
   "id": "70216fb5",
   "metadata": {},
   "source": [
    "## Model Building"
   ]
  },
  {
   "cell_type": "code",
   "execution_count": 45,
   "id": "5b6093c0",
   "metadata": {},
   "outputs": [],
   "source": [
    "from sklearn.linear_model import LinearRegression"
   ]
  },
  {
   "cell_type": "code",
   "execution_count": 46,
   "id": "90552501",
   "metadata": {},
   "outputs": [],
   "source": [
    "liner_reg = LinearRegression()"
   ]
  },
  {
   "cell_type": "code",
   "execution_count": 47,
   "id": "0b961a34",
   "metadata": {},
   "outputs": [
    {
     "data": {
      "text/plain": [
       "LinearRegression()"
      ]
     },
     "execution_count": 47,
     "metadata": {},
     "output_type": "execute_result"
    }
   ],
   "source": [
    "liner_reg.fit(x_train, y_train)"
   ]
  },
  {
   "cell_type": "code",
   "execution_count": 48,
   "id": "ea2a9f4c",
   "metadata": {},
   "outputs": [
    {
     "name": "stdout",
     "output_type": "stream",
     "text": [
      "cofficients--> [-1.05126674 -0.48159084  0.11938767  1.82417191  0.94467874  0.67540664\n",
      "  0.17325427 -1.25422021  0.0537007   0.23927078  0.00511072]\n",
      "Intercept--> 31.98159509202454\n"
     ]
    }
   ],
   "source": [
    "print(\"cofficients-->\", liner_reg.coef_)\n",
    "print(\"Intercept-->\", liner_reg.intercept_)"
   ]
  },
  {
   "cell_type": "markdown",
   "id": "0e51f920",
   "metadata": {},
   "source": [
    "## Prediction of data"
   ]
  },
  {
   "cell_type": "code",
   "execution_count": 49,
   "id": "7a350737",
   "metadata": {},
   "outputs": [],
   "source": [
    "linear_pred = liner_reg.predict(x_test)"
   ]
  },
  {
   "cell_type": "code",
   "execution_count": 50,
   "id": "cbbc9139",
   "metadata": {},
   "outputs": [
    {
     "data": {
      "text/plain": [
       "array([33.04281582, 34.18373317, 33.94262556, 33.12802489, 36.58081437,\n",
       "       32.54990698, 35.21895989, 27.32175238, 30.96985655, 29.60339718,\n",
       "       29.36216075, 33.3713269 , 33.9660541 , 33.37413504, 34.21146262,\n",
       "       32.16667325, 37.06595141, 25.21346832, 32.29221418, 33.54538576,\n",
       "       30.91440937, 28.43873771, 35.06373488, 28.67822485, 36.46752406,\n",
       "       26.81905285, 32.74394806, 33.29778191, 32.84197893, 34.66821705,\n",
       "       34.54137306, 31.59706773, 32.66796918, 33.31570383, 32.69911436,\n",
       "       33.29613965, 30.40105147, 34.24122196, 31.8380836 , 23.73446099,\n",
       "       33.60548737, 33.77838277, 32.43685622, 24.8281907 , 36.1657581 ,\n",
       "       32.45334978, 31.14713505, 30.44305813, 35.30965237, 34.62074891,\n",
       "       36.93021848, 30.95822914, 30.88244254, 34.35343577, 33.86159459,\n",
       "       32.12780851, 36.88091527, 32.3288728 , 30.12070206, 36.49040274,\n",
       "       33.13768817, 30.00109432, 33.98838284, 32.04060986, 31.81504287,\n",
       "       24.80400402, 33.17469174, 30.59601544, 36.73404251, 34.58679402,\n",
       "       32.78857774, 31.1503531 , 33.36867632, 34.75216207, 36.13928125,\n",
       "       31.39844653, 33.53813822, 32.12231108, 35.42226323, 32.340719  ,\n",
       "       34.10019406])"
      ]
     },
     "execution_count": 50,
     "metadata": {},
     "output_type": "execute_result"
    }
   ],
   "source": [
    "linear_pred"
   ]
  },
  {
   "cell_type": "markdown",
   "id": "1a89c4ca",
   "metadata": {},
   "source": [
    "## Validating Linear regression model"
   ]
  },
  {
   "cell_type": "markdown",
   "id": "e0cb88e7",
   "metadata": {},
   "source": [
    "### Linear relationship between predicted and actual data"
   ]
  },
  {
   "cell_type": "code",
   "execution_count": 51,
   "id": "34db5e6f",
   "metadata": {},
   "outputs": [
    {
     "data": {
      "image/png": "[encoded data removed]",
      "text/plain": [
       "<Figure size 720x720 with 1 Axes>"
      ]
     },
     "metadata": {
      "needs_background": "light"
     },
     "output_type": "display_data"
    }
   ],
   "source": [
    "plt.figure(figsize=(10,10))\n",
    "sns.scatterplot(x=y_test, y=linear_pred)\n",
    "plt.show()"
   ]
  },
  {
   "cell_type": "markdown",
   "id": "c4a3ec0c",
   "metadata": {},
   "source": [
    "### Residuals should follow normal distribution"
   ]
  },
  {
   "cell_type": "code",
   "execution_count": 52,
   "id": "5051f306",
   "metadata": {},
   "outputs": [
    {
     "data": {
      "text/plain": [
       "24     2.042816\n",
       "6      1.183733\n",
       "153    0.942626\n",
       "211   -1.871975\n",
       "198   -3.419186\n",
       "         ...   \n",
       "180   -0.461862\n",
       "5      1.122311\n",
       "56    -0.577737\n",
       "125    2.340719\n",
       "148   -1.899806\n",
       "Name: Temperature, Length: 81, dtype: float64"
      ]
     },
     "execution_count": 52,
     "metadata": {},
     "output_type": "execute_result"
    }
   ],
   "source": [
    "linear_residual = linear_pred - y_test\n",
    "linear_residual"
   ]
  },
  {
   "cell_type": "code",
   "execution_count": 53,
   "id": "ffd4e1f2",
   "metadata": {},
   "outputs": [
    {
     "data": {
      "image/png": "[encoded data removed]",
      "text/plain": [
       "<Figure size 720x720 with 1 Axes>"
      ]
     },
     "metadata": {
      "needs_background": "light"
     },
     "output_type": "display_data"
    }
   ],
   "source": [
    "plt.figure(figsize=(10,10))\n",
    "sns.distplot(linear_residual)\n",
    "plt.show()"
   ]
  },
  {
   "cell_type": "markdown",
   "id": "8ff14187",
   "metadata": {},
   "source": [
    "### residual vs prediction should follow uniform distribution"
   ]
  },
  {
   "cell_type": "code",
   "execution_count": 54,
   "id": "2f764769",
   "metadata": {},
   "outputs": [
    {
     "data": {
      "image/png": "[encoded data removed]",
      "text/plain": [
       "<Figure size 720x720 with 1 Axes>"
      ]
     },
     "metadata": {
      "needs_background": "light"
     },
     "output_type": "display_data"
    }
   ],
   "source": [
    "plt.figure(figsize=(10,10))\n",
    "sns.scatterplot(x=linear_residual, y=linear_pred)\n",
    "plt.show()"
   ]
  },
  {
   "cell_type": "markdown",
   "id": "bdf07e4d",
   "metadata": {},
   "source": [
    "### Performance metrics"
   ]
  },
  {
   "cell_type": "markdown",
   "id": "96983722",
   "metadata": {},
   "source": [
    "### MSE, MAE, RMSE"
   ]
  },
  {
   "cell_type": "code",
   "execution_count": 55,
   "id": "3a14943a",
   "metadata": {},
   "outputs": [],
   "source": [
    "from sklearn.metrics import mean_squared_error, mean_absolute_error"
   ]
  },
  {
   "cell_type": "code",
   "execution_count": 58,
   "id": "5b66f732",
   "metadata": {},
   "outputs": [
    {
     "name": "stdout",
     "output_type": "stream",
     "text": [
      "MSE---> 5.2084881162322585\n",
      "MAE---> 1.829754830802008\n",
      "RMSE--> 2.2822112339203526\n"
     ]
    }
   ],
   "source": [
    "print('MSE--->', mean_squared_error(y_test, linear_pred))\n",
    "print('MAE--->', mean_absolute_error(y_test, linear_pred))\n",
    "print('RMSE-->', np.sqrt(mean_squared_error(y_test, linear_pred)))"
   ]
  },
  {
   "cell_type": "markdown",
   "id": "a9b72653",
   "metadata": {},
   "source": [
    "### R square and Adjusted R sqaure"
   ]
  },
  {
   "cell_type": "code",
   "execution_count": 59,
   "id": "2253b9e0",
   "metadata": {},
   "outputs": [],
   "source": [
    "from sklearn.metrics import r2_score"
   ]
  },
  {
   "cell_type": "code",
   "execution_count": 61,
   "id": "abed94c4",
   "metadata": {},
   "outputs": [
    {
     "name": "stdout",
     "output_type": "stream",
     "text": [
      "r sqaure---> 0.5150717960749278\n",
      "adj r square--> 0.4920795105439977\n"
     ]
    }
   ],
   "source": [
    "print('r sqaure--->', r2_score(y_test, linear_pred))\n",
    "print('adj r square-->', 1 - (1-r2_score(y_test, linear_pred)) * (len(y)-1)/(len(y)-x.shape[1]-1))"
   ]
  },
  {
   "cell_type": "markdown",
   "id": "da8e090e",
   "metadata": {},
   "source": [
    "## Ridge regression"
   ]
  },
  {
   "cell_type": "code",
   "execution_count": 64,
   "id": "9e6edb7e",
   "metadata": {},
   "outputs": [
    {
     "name": "stdout",
     "output_type": "stream",
     "text": [
      "cofficients--> [-1.06044036 -0.48245502  0.10285448  1.76950837  0.44681754  0.43522539\n",
      "  0.21730663 -0.48758237 -0.0148011   0.22972883 -0.01004977]\n",
      "Intercept--> 31.98159509202454\n",
      "MSE---> 5.160557474677582\n",
      "MAE---> 1.820352374126694\n",
      "RMSE--> 2.2716860422773175\n",
      "r sqaure---> 0.5195343040817424\n",
      "adj r square--> 0.49675360298216986\n"
     ]
    }
   ],
   "source": [
    "from sklearn.linear_model import Ridge\n",
    "ridge_reg = Ridge()\n",
    "ridge_reg.fit(x_train, y_train)\n",
    "print(\"cofficients-->\", ridge_reg.coef_)\n",
    "print(\"Intercept-->\", ridge_reg.intercept_)\n",
    "ridge_pred = ridge_reg.predict(x_test)\n",
    "ridge_residual = linear_pred - y_test\n",
    "print('MSE--->', mean_squared_error(y_test, ridge_pred))\n",
    "print('MAE--->', mean_absolute_error(y_test, ridge_pred))\n",
    "print('RMSE-->', np.sqrt(mean_squared_error(y_test, ridge_pred)))\n",
    "print('r sqaure--->', r2_score(y_test, ridge_pred))\n",
    "print('adj r square-->', 1 - (1-r2_score(y_test, ridge_pred)) * (len(y)-1)/(len(y)-x.shape[1]-1))"
   ]
  },
  {
   "cell_type": "markdown",
   "id": "1f7aadaf",
   "metadata": {},
   "source": [
    "## Lasso regression"
   ]
  },
  {
   "cell_type": "code",
   "execution_count": 65,
   "id": "9922ecff",
   "metadata": {},
   "outputs": [
    {
     "name": "stdout",
     "output_type": "stream",
     "text": [
      "cofficients--> [-0.62324302 -0.         -0.          1.25581509  0.          0.\n",
      "  0.          0.          0.         -0.         -0.        ]\n",
      "Intercept--> 31.98159509202454\n",
      "MSE---> 6.085458745527471\n",
      "MAE---> 1.9978776414662665\n",
      "RMSE--> 2.4668722596696147\n",
      "r sqaure---> 0.4334228064508907\n",
      "adj r square--> 0.4065592326188209\n"
     ]
    }
   ],
   "source": [
    "from sklearn.linear_model import Lasso\n",
    "lasso_reg = Lasso()\n",
    "lasso_reg.fit(x_train, y_train)\n",
    "print(\"cofficients-->\", lasso_reg.coef_)\n",
    "print(\"Intercept-->\", lasso_reg.intercept_)\n",
    "lasso_pred = lasso_reg.predict(x_test)\n",
    "lasso_residual = linear_pred - y_test\n",
    "print('MSE--->', mean_squared_error(y_test, lasso_pred))\n",
    "print('MAE--->', mean_absolute_error(y_test, lasso_pred))\n",
    "print('RMSE-->', np.sqrt(mean_squared_error(y_test, lasso_pred)))\n",
    "print('r sqaure--->', r2_score(y_test, lasso_pred))\n",
    "print('adj r square-->', 1 - (1-r2_score(y_test, lasso_pred)) * (len(y)-1)/(len(y)-x.shape[1]-1))"
   ]
  },
  {
   "cell_type": "markdown",
   "id": "80e5dc3b",
   "metadata": {},
   "source": [
    "## Elastic Net"
   ]
  },
  {
   "cell_type": "code",
   "execution_count": 66,
   "id": "36ff2a14",
   "metadata": {},
   "outputs": [
    {
     "name": "stdout",
     "output_type": "stream",
     "text": [
      "cofficients--> [-0.68808933 -0.10544712 -0.00834786  0.85162206  0.10376148  0.\n",
      "  0.23158765  0.02547021  0.15362153 -0.07372069 -0.        ]\n",
      "Intercept--> 31.98159509202454\n",
      "MSE---> 5.388789584891887\n",
      "MAE---> 1.8473243979676643\n",
      "RMSE--> 2.3213766572643673\n",
      "r sqaure---> 0.4982851076135141\n",
      "adj r square--> 0.4744969015089824\n"
     ]
    }
   ],
   "source": [
    "from sklearn.linear_model import ElasticNet\n",
    "ElasticNet_reg = ElasticNet()\n",
    "ElasticNet_reg.fit(x_train, y_train)\n",
    "print(\"cofficients-->\", ElasticNet_reg.coef_)\n",
    "print(\"Intercept-->\", ElasticNet_reg.intercept_)\n",
    "ElasticNet_pred = ElasticNet_reg.predict(x_test)\n",
    "ElasticNet_residual = ElasticNet_pred - y_test\n",
    "print('MSE--->', mean_squared_error(y_test, ElasticNet_pred))\n",
    "print('MAE--->', mean_absolute_error(y_test, ElasticNet_pred))\n",
    "print('RMSE-->', np.sqrt(mean_squared_error(y_test, ElasticNet_pred)))\n",
    "print('r sqaure--->', r2_score(y_test, ElasticNet_pred))\n",
    "print('adj r square-->', 1 - (1-r2_score(y_test, ElasticNet_pred)) * (len(y)-1)/(len(y)-x.shape[1]-1))"
   ]
  },
  {
   "cell_type": "code",
   "execution_count": null,
   "id": "1311f025",
   "metadata": {},
   "outputs": [],
   "source": []
  }
 ],
 "metadata": {
  "kernelspec": {
   "display_name": "Python 3 (ipykernel)",
   "language": "python",
   "name": "python3"
  },
  "language_info": {
   "codemirror_mode": {
    "name": "ipython",
    "version": 3
   },
   "file_extension": ".py",
   "mimetype": "text/x-python",
   "name": "python",
   "nbconvert_exporter": "python",
   "pygments_lexer": "ipython3",
   "version": "3.9.12"
  }
 },
 "nbformat": 4,
 "nbformat_minor": 5
}
